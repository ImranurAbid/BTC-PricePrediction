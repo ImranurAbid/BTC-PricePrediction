{
 "cells": [
  {
   "cell_type": "code",
   "execution_count": 64,
   "id": "61f92cd0",
   "metadata": {},
   "outputs": [],
   "source": [
    "import matplotlib.pyplot as plt\n",
    "import numpy as np\n",
    "import pandas as pd\n",
    "import seaborn; seaborn.set()\n",
    "import datetime\n",
    "import seaborn as sns; sns.set()\n",
    "from statsmodels.graphics.tsaplots import plot_acf\n",
    "from sklearn.ensemble import RandomForestRegressor, RandomForestClassifier\n",
    "from IPython.display import display\n",
    "from sklearn import metrics"
   ]
  },
  {
   "cell_type": "code",
   "execution_count": 9,
   "id": "43c95b8e",
   "metadata": {
    "scrolled": true
   },
   "outputs": [
    {
     "data": {
      "text/html": [
       "<div>\n",
       "<style scoped>\n",
       "    .dataframe tbody tr th:only-of-type {\n",
       "        vertical-align: middle;\n",
       "    }\n",
       "\n",
       "    .dataframe tbody tr th {\n",
       "        vertical-align: top;\n",
       "    }\n",
       "\n",
       "    .dataframe thead th {\n",
       "        text-align: right;\n",
       "    }\n",
       "</style>\n",
       "<table border=\"1\" class=\"dataframe\">\n",
       "  <thead>\n",
       "    <tr style=\"text-align: right;\">\n",
       "      <th></th>\n",
       "      <th>Date</th>\n",
       "      <th>Open</th>\n",
       "      <th>High</th>\n",
       "      <th>Low</th>\n",
       "      <th>Close</th>\n",
       "      <th>Volume</th>\n",
       "      <th>Market Cap</th>\n",
       "    </tr>\n",
       "  </thead>\n",
       "  <tbody>\n",
       "    <tr>\n",
       "      <th>0</th>\n",
       "      <td>01/05/2021</td>\n",
       "      <td>57714.66</td>\n",
       "      <td>58448.34</td>\n",
       "      <td>57052.27</td>\n",
       "      <td>57828.05</td>\n",
       "      <td>42836427360</td>\n",
       "      <td>1081174515343</td>\n",
       "    </tr>\n",
       "    <tr>\n",
       "      <th>1</th>\n",
       "      <td>02/05/2021</td>\n",
       "      <td>57825.86</td>\n",
       "      <td>57902.59</td>\n",
       "      <td>56141.91</td>\n",
       "      <td>56631.08</td>\n",
       "      <td>38177405335</td>\n",
       "      <td>1058862005057</td>\n",
       "    </tr>\n",
       "    <tr>\n",
       "      <th>2</th>\n",
       "      <td>03/05/2021</td>\n",
       "      <td>56620.27</td>\n",
       "      <td>58973.31</td>\n",
       "      <td>56590.87</td>\n",
       "      <td>57200.29</td>\n",
       "      <td>51713139031</td>\n",
       "      <td>1069563935453</td>\n",
       "    </tr>\n",
       "    <tr>\n",
       "      <th>3</th>\n",
       "      <td>04/05/2021</td>\n",
       "      <td>57214.18</td>\n",
       "      <td>57214.18</td>\n",
       "      <td>53191.43</td>\n",
       "      <td>53333.54</td>\n",
       "      <td>68564706967</td>\n",
       "      <td>997324142593</td>\n",
       "    </tr>\n",
       "    <tr>\n",
       "      <th>4</th>\n",
       "      <td>05/05/2021</td>\n",
       "      <td>53252.16</td>\n",
       "      <td>57911.36</td>\n",
       "      <td>52969.06</td>\n",
       "      <td>57424.01</td>\n",
       "      <td>69241316747</td>\n",
       "      <td>1073873012867</td>\n",
       "    </tr>\n",
       "    <tr>\n",
       "      <th>...</th>\n",
       "      <td>...</td>\n",
       "      <td>...</td>\n",
       "      <td>...</td>\n",
       "      <td>...</td>\n",
       "      <td>...</td>\n",
       "      <td>...</td>\n",
       "      <td>...</td>\n",
       "    </tr>\n",
       "    <tr>\n",
       "      <th>118</th>\n",
       "      <td>27/08/2021</td>\n",
       "      <td>46894.56</td>\n",
       "      <td>49112.79</td>\n",
       "      <td>46394.28</td>\n",
       "      <td>49058.67</td>\n",
       "      <td>34511076995</td>\n",
       "      <td>922265559164</td>\n",
       "    </tr>\n",
       "    <tr>\n",
       "      <th>119</th>\n",
       "      <td>28/08/2021</td>\n",
       "      <td>49072.59</td>\n",
       "      <td>49283.51</td>\n",
       "      <td>48499.24</td>\n",
       "      <td>48902.40</td>\n",
       "      <td>28568103401</td>\n",
       "      <td>919372790254</td>\n",
       "    </tr>\n",
       "    <tr>\n",
       "      <th>120</th>\n",
       "      <td>29/08/2021</td>\n",
       "      <td>48911.25</td>\n",
       "      <td>49644.11</td>\n",
       "      <td>47925.86</td>\n",
       "      <td>48829.83</td>\n",
       "      <td>25889650240</td>\n",
       "      <td>918057300166</td>\n",
       "    </tr>\n",
       "    <tr>\n",
       "      <th>121</th>\n",
       "      <td>30/08/2021</td>\n",
       "      <td>48834.85</td>\n",
       "      <td>48925.61</td>\n",
       "      <td>46950.27</td>\n",
       "      <td>47054.98</td>\n",
       "      <td>31847007016</td>\n",
       "      <td>884727824089</td>\n",
       "    </tr>\n",
       "    <tr>\n",
       "      <th>122</th>\n",
       "      <td>31/08/2021</td>\n",
       "      <td>47024.34</td>\n",
       "      <td>48189.55</td>\n",
       "      <td>46750.09</td>\n",
       "      <td>47166.69</td>\n",
       "      <td>34730363427</td>\n",
       "      <td>886869903603</td>\n",
       "    </tr>\n",
       "  </tbody>\n",
       "</table>\n",
       "<p>123 rows × 7 columns</p>\n",
       "</div>"
      ],
      "text/plain": [
       "           Date      Open      High       Low     Close       Volume  \\\n",
       "0    01/05/2021  57714.66  58448.34  57052.27  57828.05  42836427360   \n",
       "1    02/05/2021  57825.86  57902.59  56141.91  56631.08  38177405335   \n",
       "2    03/05/2021  56620.27  58973.31  56590.87  57200.29  51713139031   \n",
       "3    04/05/2021  57214.18  57214.18  53191.43  53333.54  68564706967   \n",
       "4    05/05/2021  53252.16  57911.36  52969.06  57424.01  69241316747   \n",
       "..          ...       ...       ...       ...       ...          ...   \n",
       "118  27/08/2021  46894.56  49112.79  46394.28  49058.67  34511076995   \n",
       "119  28/08/2021  49072.59  49283.51  48499.24  48902.40  28568103401   \n",
       "120  29/08/2021  48911.25  49644.11  47925.86  48829.83  25889650240   \n",
       "121  30/08/2021  48834.85  48925.61  46950.27  47054.98  31847007016   \n",
       "122  31/08/2021  47024.34  48189.55  46750.09  47166.69  34730363427   \n",
       "\n",
       "        Market Cap  \n",
       "0    1081174515343  \n",
       "1    1058862005057  \n",
       "2    1069563935453  \n",
       "3     997324142593  \n",
       "4    1073873012867  \n",
       "..             ...  \n",
       "118   922265559164  \n",
       "119   919372790254  \n",
       "120   918057300166  \n",
       "121   884727824089  \n",
       "122   886869903603  \n",
       "\n",
       "[123 rows x 7 columns]"
      ]
     },
     "execution_count": 9,
     "metadata": {},
     "output_type": "execute_result"
    }
   ],
   "source": [
    "data=pd.read_csv('BTC.csv')\n",
    "data"
   ]
  },
  {
   "cell_type": "code",
   "execution_count": 12,
   "id": "0d21f2de",
   "metadata": {
    "scrolled": true
   },
   "outputs": [
    {
     "data": {
      "text/html": [
       "<div>\n",
       "<style scoped>\n",
       "    .dataframe tbody tr th:only-of-type {\n",
       "        vertical-align: middle;\n",
       "    }\n",
       "\n",
       "    .dataframe tbody tr th {\n",
       "        vertical-align: top;\n",
       "    }\n",
       "\n",
       "    .dataframe thead th {\n",
       "        text-align: right;\n",
       "    }\n",
       "</style>\n",
       "<table border=\"1\" class=\"dataframe\">\n",
       "  <thead>\n",
       "    <tr style=\"text-align: right;\">\n",
       "      <th></th>\n",
       "      <th>Date</th>\n",
       "      <th>Open</th>\n",
       "      <th>High</th>\n",
       "      <th>Low</th>\n",
       "      <th>Close</th>\n",
       "      <th>Volume</th>\n",
       "      <th>Market Cap</th>\n",
       "    </tr>\n",
       "  </thead>\n",
       "  <tbody>\n",
       "    <tr>\n",
       "      <th>0</th>\n",
       "      <td>01/05/2021</td>\n",
       "      <td>57714.66</td>\n",
       "      <td>58448.34</td>\n",
       "      <td>57052.27</td>\n",
       "      <td>57828.05</td>\n",
       "      <td>42836427360</td>\n",
       "      <td>1081174515343</td>\n",
       "    </tr>\n",
       "    <tr>\n",
       "      <th>1</th>\n",
       "      <td>02/05/2021</td>\n",
       "      <td>57825.86</td>\n",
       "      <td>57902.59</td>\n",
       "      <td>56141.91</td>\n",
       "      <td>56631.08</td>\n",
       "      <td>38177405335</td>\n",
       "      <td>1058862005057</td>\n",
       "    </tr>\n",
       "    <tr>\n",
       "      <th>2</th>\n",
       "      <td>03/05/2021</td>\n",
       "      <td>56620.27</td>\n",
       "      <td>58973.31</td>\n",
       "      <td>56590.87</td>\n",
       "      <td>57200.29</td>\n",
       "      <td>51713139031</td>\n",
       "      <td>1069563935453</td>\n",
       "    </tr>\n",
       "    <tr>\n",
       "      <th>3</th>\n",
       "      <td>04/05/2021</td>\n",
       "      <td>57214.18</td>\n",
       "      <td>57214.18</td>\n",
       "      <td>53191.43</td>\n",
       "      <td>53333.54</td>\n",
       "      <td>68564706967</td>\n",
       "      <td>997324142593</td>\n",
       "    </tr>\n",
       "    <tr>\n",
       "      <th>4</th>\n",
       "      <td>05/05/2021</td>\n",
       "      <td>53252.16</td>\n",
       "      <td>57911.36</td>\n",
       "      <td>52969.06</td>\n",
       "      <td>57424.01</td>\n",
       "      <td>69241316747</td>\n",
       "      <td>1073873012867</td>\n",
       "    </tr>\n",
       "  </tbody>\n",
       "</table>\n",
       "</div>"
      ],
      "text/plain": [
       "         Date      Open      High       Low     Close       Volume  \\\n",
       "0  01/05/2021  57714.66  58448.34  57052.27  57828.05  42836427360   \n",
       "1  02/05/2021  57825.86  57902.59  56141.91  56631.08  38177405335   \n",
       "2  03/05/2021  56620.27  58973.31  56590.87  57200.29  51713139031   \n",
       "3  04/05/2021  57214.18  57214.18  53191.43  53333.54  68564706967   \n",
       "4  05/05/2021  53252.16  57911.36  52969.06  57424.01  69241316747   \n",
       "\n",
       "      Market Cap  \n",
       "0  1081174515343  \n",
       "1  1058862005057  \n",
       "2  1069563935453  \n",
       "3   997324142593  \n",
       "4  1073873012867  "
      ]
     },
     "execution_count": 12,
     "metadata": {},
     "output_type": "execute_result"
    }
   ],
   "source": [
    "data.head()"
   ]
  },
  {
   "cell_type": "code",
   "execution_count": 13,
   "id": "37af44a5",
   "metadata": {},
   "outputs": [
    {
     "data": {
      "text/html": [
       "<div>\n",
       "<style scoped>\n",
       "    .dataframe tbody tr th:only-of-type {\n",
       "        vertical-align: middle;\n",
       "    }\n",
       "\n",
       "    .dataframe tbody tr th {\n",
       "        vertical-align: top;\n",
       "    }\n",
       "\n",
       "    .dataframe thead th {\n",
       "        text-align: right;\n",
       "    }\n",
       "</style>\n",
       "<table border=\"1\" class=\"dataframe\">\n",
       "  <thead>\n",
       "    <tr style=\"text-align: right;\">\n",
       "      <th></th>\n",
       "      <th>Date</th>\n",
       "      <th>Open</th>\n",
       "      <th>High</th>\n",
       "      <th>Low</th>\n",
       "      <th>Close</th>\n",
       "      <th>Volume</th>\n",
       "      <th>Market Cap</th>\n",
       "    </tr>\n",
       "  </thead>\n",
       "  <tbody>\n",
       "    <tr>\n",
       "      <th>118</th>\n",
       "      <td>27/08/2021</td>\n",
       "      <td>46894.56</td>\n",
       "      <td>49112.79</td>\n",
       "      <td>46394.28</td>\n",
       "      <td>49058.67</td>\n",
       "      <td>34511076995</td>\n",
       "      <td>922265559164</td>\n",
       "    </tr>\n",
       "    <tr>\n",
       "      <th>119</th>\n",
       "      <td>28/08/2021</td>\n",
       "      <td>49072.59</td>\n",
       "      <td>49283.51</td>\n",
       "      <td>48499.24</td>\n",
       "      <td>48902.40</td>\n",
       "      <td>28568103401</td>\n",
       "      <td>919372790254</td>\n",
       "    </tr>\n",
       "    <tr>\n",
       "      <th>120</th>\n",
       "      <td>29/08/2021</td>\n",
       "      <td>48911.25</td>\n",
       "      <td>49644.11</td>\n",
       "      <td>47925.86</td>\n",
       "      <td>48829.83</td>\n",
       "      <td>25889650240</td>\n",
       "      <td>918057300166</td>\n",
       "    </tr>\n",
       "    <tr>\n",
       "      <th>121</th>\n",
       "      <td>30/08/2021</td>\n",
       "      <td>48834.85</td>\n",
       "      <td>48925.61</td>\n",
       "      <td>46950.27</td>\n",
       "      <td>47054.98</td>\n",
       "      <td>31847007016</td>\n",
       "      <td>884727824089</td>\n",
       "    </tr>\n",
       "    <tr>\n",
       "      <th>122</th>\n",
       "      <td>31/08/2021</td>\n",
       "      <td>47024.34</td>\n",
       "      <td>48189.55</td>\n",
       "      <td>46750.09</td>\n",
       "      <td>47166.69</td>\n",
       "      <td>34730363427</td>\n",
       "      <td>886869903603</td>\n",
       "    </tr>\n",
       "  </tbody>\n",
       "</table>\n",
       "</div>"
      ],
      "text/plain": [
       "           Date      Open      High       Low     Close       Volume  \\\n",
       "118  27/08/2021  46894.56  49112.79  46394.28  49058.67  34511076995   \n",
       "119  28/08/2021  49072.59  49283.51  48499.24  48902.40  28568103401   \n",
       "120  29/08/2021  48911.25  49644.11  47925.86  48829.83  25889650240   \n",
       "121  30/08/2021  48834.85  48925.61  46950.27  47054.98  31847007016   \n",
       "122  31/08/2021  47024.34  48189.55  46750.09  47166.69  34730363427   \n",
       "\n",
       "       Market Cap  \n",
       "118  922265559164  \n",
       "119  919372790254  \n",
       "120  918057300166  \n",
       "121  884727824089  \n",
       "122  886869903603  "
      ]
     },
     "execution_count": 13,
     "metadata": {},
     "output_type": "execute_result"
    }
   ],
   "source": [
    "data.tail()"
   ]
  },
  {
   "cell_type": "code",
   "execution_count": 14,
   "id": "c48abb34",
   "metadata": {},
   "outputs": [
    {
     "data": {
      "text/html": [
       "<div>\n",
       "<style scoped>\n",
       "    .dataframe tbody tr th:only-of-type {\n",
       "        vertical-align: middle;\n",
       "    }\n",
       "\n",
       "    .dataframe tbody tr th {\n",
       "        vertical-align: top;\n",
       "    }\n",
       "\n",
       "    .dataframe thead th {\n",
       "        text-align: right;\n",
       "    }\n",
       "</style>\n",
       "<table border=\"1\" class=\"dataframe\">\n",
       "  <thead>\n",
       "    <tr style=\"text-align: right;\">\n",
       "      <th></th>\n",
       "      <th>Open</th>\n",
       "      <th>High</th>\n",
       "      <th>Low</th>\n",
       "      <th>Close</th>\n",
       "      <th>Volume</th>\n",
       "      <th>Market Cap</th>\n",
       "    </tr>\n",
       "  </thead>\n",
       "  <tbody>\n",
       "    <tr>\n",
       "      <th>count</th>\n",
       "      <td>123.000000</td>\n",
       "      <td>123.000000</td>\n",
       "      <td>123.000000</td>\n",
       "      <td>123.000000</td>\n",
       "      <td>1.230000e+02</td>\n",
       "      <td>1.230000e+02</td>\n",
       "    </tr>\n",
       "    <tr>\n",
       "      <th>mean</th>\n",
       "      <td>40732.986748</td>\n",
       "      <td>41968.682276</td>\n",
       "      <td>39215.341789</td>\n",
       "      <td>40649.353333</td>\n",
       "      <td>4.065056e+10</td>\n",
       "      <td>7.620954e+11</td>\n",
       "    </tr>\n",
       "    <tr>\n",
       "      <th>std</th>\n",
       "      <td>7653.154473</td>\n",
       "      <td>7723.347611</td>\n",
       "      <td>7546.364025</td>\n",
       "      <td>7514.317141</td>\n",
       "      <td>1.792039e+10</td>\n",
       "      <td>1.407085e+11</td>\n",
       "    </tr>\n",
       "    <tr>\n",
       "      <th>min</th>\n",
       "      <td>29796.290000</td>\n",
       "      <td>31006.190000</td>\n",
       "      <td>28893.620000</td>\n",
       "      <td>29807.350000</td>\n",
       "      <td>1.878799e+10</td>\n",
       "      <td>5.592443e+11</td>\n",
       "    </tr>\n",
       "    <tr>\n",
       "      <th>25%</th>\n",
       "      <td>34633.255000</td>\n",
       "      <td>35426.090000</td>\n",
       "      <td>33413.780000</td>\n",
       "      <td>34632.855000</td>\n",
       "      <td>2.874077e+10</td>\n",
       "      <td>6.487613e+11</td>\n",
       "    </tr>\n",
       "    <tr>\n",
       "      <th>50%</th>\n",
       "      <td>38392.620000</td>\n",
       "      <td>39835.140000</td>\n",
       "      <td>36441.730000</td>\n",
       "      <td>38402.220000</td>\n",
       "      <td>3.546075e+10</td>\n",
       "      <td>7.188294e+11</td>\n",
       "    </tr>\n",
       "    <tr>\n",
       "      <th>75%</th>\n",
       "      <td>46566.270000</td>\n",
       "      <td>47594.545000</td>\n",
       "      <td>45028.635000</td>\n",
       "      <td>46586.820000</td>\n",
       "      <td>4.636863e+10</td>\n",
       "      <td>8.728682e+11</td>\n",
       "    </tr>\n",
       "    <tr>\n",
       "      <th>max</th>\n",
       "      <td>58877.390000</td>\n",
       "      <td>59519.350000</td>\n",
       "      <td>57052.270000</td>\n",
       "      <td>58803.780000</td>\n",
       "      <td>1.263581e+11</td>\n",
       "      <td>1.099864e+12</td>\n",
       "    </tr>\n",
       "  </tbody>\n",
       "</table>\n",
       "</div>"
      ],
      "text/plain": [
       "               Open          High           Low         Close        Volume  \\\n",
       "count    123.000000    123.000000    123.000000    123.000000  1.230000e+02   \n",
       "mean   40732.986748  41968.682276  39215.341789  40649.353333  4.065056e+10   \n",
       "std     7653.154473   7723.347611   7546.364025   7514.317141  1.792039e+10   \n",
       "min    29796.290000  31006.190000  28893.620000  29807.350000  1.878799e+10   \n",
       "25%    34633.255000  35426.090000  33413.780000  34632.855000  2.874077e+10   \n",
       "50%    38392.620000  39835.140000  36441.730000  38402.220000  3.546075e+10   \n",
       "75%    46566.270000  47594.545000  45028.635000  46586.820000  4.636863e+10   \n",
       "max    58877.390000  59519.350000  57052.270000  58803.780000  1.263581e+11   \n",
       "\n",
       "         Market Cap  \n",
       "count  1.230000e+02  \n",
       "mean   7.620954e+11  \n",
       "std    1.407085e+11  \n",
       "min    5.592443e+11  \n",
       "25%    6.487613e+11  \n",
       "50%    7.188294e+11  \n",
       "75%    8.728682e+11  \n",
       "max    1.099864e+12  "
      ]
     },
     "execution_count": 14,
     "metadata": {},
     "output_type": "execute_result"
    }
   ],
   "source": [
    "data.describe()"
   ]
  },
  {
   "cell_type": "code",
   "execution_count": null,
   "id": "56fa8ac2",
   "metadata": {},
   "outputs": [],
   "source": [
    "data.drop(['Open', 'High', 'Low', 'Volume', 'Market Cap'],axis=1,inplace=True)\n",
    "data"
   ]
  },
  {
   "cell_type": "code",
   "execution_count": null,
   "id": "0a3a1b85",
   "metadata": {
    "scrolled": false
   },
   "outputs": [],
   "source": [
    "dateindex=pd.DatetimeIndex(data['Date'])"
   ]
  },
  {
   "cell_type": "code",
   "execution_count": null,
   "id": "eea1b6a2",
   "metadata": {},
   "outputs": [],
   "source": [
    "data.drop('Date',axis=1,inplace=True)"
   ]
  },
  {
   "cell_type": "code",
   "execution_count": 45,
   "id": "1ca107d6",
   "metadata": {
    "scrolled": true
   },
   "outputs": [
    {
     "data": {
      "text/html": [
       "<div>\n",
       "<style scoped>\n",
       "    .dataframe tbody tr th:only-of-type {\n",
       "        vertical-align: middle;\n",
       "    }\n",
       "\n",
       "    .dataframe tbody tr th {\n",
       "        vertical-align: top;\n",
       "    }\n",
       "\n",
       "    .dataframe thead th {\n",
       "        text-align: right;\n",
       "    }\n",
       "</style>\n",
       "<table border=\"1\" class=\"dataframe\">\n",
       "  <thead>\n",
       "    <tr style=\"text-align: right;\">\n",
       "      <th></th>\n",
       "      <th>Close</th>\n",
       "    </tr>\n",
       "    <tr>\n",
       "      <th>Date</th>\n",
       "      <th></th>\n",
       "    </tr>\n",
       "  </thead>\n",
       "  <tbody>\n",
       "    <tr>\n",
       "      <th>2021-01-05</th>\n",
       "      <td>57828.05</td>\n",
       "    </tr>\n",
       "    <tr>\n",
       "      <th>2021-02-05</th>\n",
       "      <td>56631.08</td>\n",
       "    </tr>\n",
       "    <tr>\n",
       "      <th>2021-03-05</th>\n",
       "      <td>57200.29</td>\n",
       "    </tr>\n",
       "    <tr>\n",
       "      <th>2021-04-05</th>\n",
       "      <td>53333.54</td>\n",
       "    </tr>\n",
       "    <tr>\n",
       "      <th>2021-05-05</th>\n",
       "      <td>57424.01</td>\n",
       "    </tr>\n",
       "    <tr>\n",
       "      <th>...</th>\n",
       "      <td>...</td>\n",
       "    </tr>\n",
       "    <tr>\n",
       "      <th>2021-08-27</th>\n",
       "      <td>49058.67</td>\n",
       "    </tr>\n",
       "    <tr>\n",
       "      <th>2021-08-28</th>\n",
       "      <td>48902.40</td>\n",
       "    </tr>\n",
       "    <tr>\n",
       "      <th>2021-08-29</th>\n",
       "      <td>48829.83</td>\n",
       "    </tr>\n",
       "    <tr>\n",
       "      <th>2021-08-30</th>\n",
       "      <td>47054.98</td>\n",
       "    </tr>\n",
       "    <tr>\n",
       "      <th>2021-08-31</th>\n",
       "      <td>47166.69</td>\n",
       "    </tr>\n",
       "  </tbody>\n",
       "</table>\n",
       "<p>123 rows × 1 columns</p>\n",
       "</div>"
      ],
      "text/plain": [
       "               Close\n",
       "Date                \n",
       "2021-01-05  57828.05\n",
       "2021-02-05  56631.08\n",
       "2021-03-05  57200.29\n",
       "2021-04-05  53333.54\n",
       "2021-05-05  57424.01\n",
       "...              ...\n",
       "2021-08-27  49058.67\n",
       "2021-08-28  48902.40\n",
       "2021-08-29  48829.83\n",
       "2021-08-30  47054.98\n",
       "2021-08-31  47166.69\n",
       "\n",
       "[123 rows x 1 columns]"
      ]
     },
     "execution_count": 45,
     "metadata": {},
     "output_type": "execute_result"
    }
   ],
   "source": [
    "data"
   ]
  },
  {
   "cell_type": "code",
   "execution_count": null,
   "id": "0f19ced0",
   "metadata": {},
   "outputs": [],
   "source": [
    "data.plot()"
   ]
  },
  {
   "cell_type": "markdown",
   "id": "3cda5ec5",
   "metadata": {},
   "source": [
    "#### Auto-correlation Function (ACF)"
   ]
  },
  {
   "cell_type": "code",
   "execution_count": 65,
   "id": "8b70e7f9",
   "metadata": {
    "scrolled": true
   },
   "outputs": [
    {
     "data": {
      "image/png": "[encoded data removed]",
      "text/plain": [
       "<Figure size 1440x720 with 1 Axes>"
      ]
     },
     "execution_count": 65,
     "metadata": {},
     "output_type": "execute_result"
    },
    {
     "data": {
      "image/png": "[encoded data removed]",
      "text/plain": [
       "<Figure size 1440x720 with 1 Axes>"
      ]
     },
     "metadata": {},
     "output_type": "display_data"
    }
   ],
   "source": [
    "plot_acf(data.diff().dropna(), lags= 48, alpha=0.05)"
   ]
  },
  {
   "cell_type": "markdown",
   "id": "76191833",
   "metadata": {},
   "source": [
    "#### Augmented Dicky-Fuller Test (ADF)"
   ]
  },
  {
   "cell_type": "code",
   "execution_count": 55,
   "id": "a974522e",
   "metadata": {},
   "outputs": [],
   "source": [
    "def Dickey_Fuller_Test(x):\n",
    "    dickey_fuller = sm.tsa.stattools.adfuller(x)\n",
    "    print(f'Dickey-Fuller p = {dickey_fuller[1]}')\n",
    "    if dickey_fuller[1] > 0.05:\n",
    "        print('Time series is non-stationary.')\n",
    "    else:\n",
    "        print('Time series is stationary.')"
   ]
  },
  {
   "cell_type": "code",
   "execution_count": 66,
   "id": "9214b273",
   "metadata": {},
   "outputs": [
    {
     "data": {
      "text/plain": [
       "0.05098313417610551"
      ]
     },
     "execution_count": 66,
     "metadata": {},
     "output_type": "execute_result"
    }
   ],
   "source": [
    "from statsmodels.tsa.stattools import adfuller\n",
    "adfuller(data)[1]"
   ]
  },
  {
   "cell_type": "code",
   "execution_count": null,
   "id": "2cc0771b",
   "metadata": {},
   "outputs": [],
   "source": [
    "from sklearn.metrics import mean_squared_error\n",
    "from sklearn.model_selection import train_test_split\n",
    "train,test = train_test_split(data,test_size=0.24,shuffle=False)\n",
    "from statsmodels.tsa.arima.model import ARIMA\n",
    "mod = ARIMA(data, order=(0,1,0))\n",
    "result = mod.fit()\n",
    "\n",
    "history = [x for x in train]\n",
    "predictions = list()\n",
    "for i in range(len(test)):\n",
    "    # Predict\n",
    "    model = ARMA(history,order=(5,1))\n",
    "    model_fit = mod.fit()\n",
    "    yhat = model_fit.forecast()\n",
    "    yhat_p = model_fit.predict(start=len(history), end=len(history))[0]\n",
    "    predictions.append(yhat_p)\n",
    "    # Observe\n",
    "    obs = test[i] \n",
    "    history.append(obs)\n",
    "    print(str(yhat_p)+' '+' '+ str(history[-4:])+' '+str(obs)+' '+str(i)+' ')"
   ]
  },
  {
   "cell_type": "code",
   "execution_count": 74,
   "id": "f4727de1",
   "metadata": {},
   "outputs": [
    {
     "data": {
      "text/html": [
       "<div>\n",
       "<style scoped>\n",
       "    .dataframe tbody tr th:only-of-type {\n",
       "        vertical-align: middle;\n",
       "    }\n",
       "\n",
       "    .dataframe tbody tr th {\n",
       "        vertical-align: top;\n",
       "    }\n",
       "\n",
       "    .dataframe thead th {\n",
       "        text-align: right;\n",
       "    }\n",
       "</style>\n",
       "<table border=\"1\" class=\"dataframe\">\n",
       "  <thead>\n",
       "    <tr style=\"text-align: right;\">\n",
       "      <th></th>\n",
       "      <th>Date</th>\n",
       "      <th>Close</th>\n",
       "    </tr>\n",
       "  </thead>\n",
       "  <tbody>\n",
       "    <tr>\n",
       "      <th>0</th>\n",
       "      <td>2021-01-05</td>\n",
       "      <td>57828.05</td>\n",
       "    </tr>\n",
       "    <tr>\n",
       "      <th>1</th>\n",
       "      <td>2021-01-06</td>\n",
       "      <td>36684.92</td>\n",
       "    </tr>\n",
       "    <tr>\n",
       "      <th>2</th>\n",
       "      <td>2021-01-07</td>\n",
       "      <td>33572.12</td>\n",
       "    </tr>\n",
       "    <tr>\n",
       "      <th>3</th>\n",
       "      <td>2021-01-08</td>\n",
       "      <td>39974.90</td>\n",
       "    </tr>\n",
       "    <tr>\n",
       "      <th>4</th>\n",
       "      <td>2021-02-05</td>\n",
       "      <td>56631.08</td>\n",
       "    </tr>\n",
       "    <tr>\n",
       "      <th>...</th>\n",
       "      <td>...</td>\n",
       "      <td>...</td>\n",
       "    </tr>\n",
       "    <tr>\n",
       "      <th>118</th>\n",
       "      <td>2021-11-08</td>\n",
       "      <td>45593.64</td>\n",
       "    </tr>\n",
       "    <tr>\n",
       "      <th>119</th>\n",
       "      <td>2021-12-05</td>\n",
       "      <td>49150.53</td>\n",
       "    </tr>\n",
       "    <tr>\n",
       "      <th>120</th>\n",
       "      <td>2021-12-06</td>\n",
       "      <td>35552.52</td>\n",
       "    </tr>\n",
       "    <tr>\n",
       "      <th>121</th>\n",
       "      <td>2021-12-07</td>\n",
       "      <td>33155.85</td>\n",
       "    </tr>\n",
       "    <tr>\n",
       "      <th>122</th>\n",
       "      <td>2021-12-08</td>\n",
       "      <td>44428.29</td>\n",
       "    </tr>\n",
       "  </tbody>\n",
       "</table>\n",
       "<p>123 rows × 2 columns</p>\n",
       "</div>"
      ],
      "text/plain": [
       "          Date     Close\n",
       "0   2021-01-05  57828.05\n",
       "1   2021-01-06  36684.92\n",
       "2   2021-01-07  33572.12\n",
       "3   2021-01-08  39974.90\n",
       "4   2021-02-05  56631.08\n",
       "..         ...       ...\n",
       "118 2021-11-08  45593.64\n",
       "119 2021-12-05  49150.53\n",
       "120 2021-12-06  35552.52\n",
       "121 2021-12-07  33155.85\n",
       "122 2021-12-08  44428.29\n",
       "\n",
       "[123 rows x 2 columns]"
      ]
     },
     "execution_count": 74,
     "metadata": {},
     "output_type": "execute_result"
    }
   ],
   "source": [
    "new_data = data.groupby('Date')['Close'].sum().reset_index()\n",
    "new_data"
   ]
  },
  {
   "cell_type": "code",
   "execution_count": 76,
   "id": "ae87e5da",
   "metadata": {},
   "outputs": [],
   "source": [
    "new_data['Date'] = pd.to_datetime(new_data['Date'], infer_datetime_format=True)"
   ]
  },
  {
   "cell_type": "code",
   "execution_count": 77,
   "id": "a2a75cf1",
   "metadata": {},
   "outputs": [
    {
     "data": {
      "text/plain": [
       "pandas.core.frame.DataFrame"
      ]
     },
     "execution_count": 77,
     "metadata": {},
     "output_type": "execute_result"
    }
   ],
   "source": [
    "df = new_data.set_index(['Date'])\n",
    "type(df)"
   ]
  },
  {
   "cell_type": "code",
   "execution_count": 78,
   "id": "513f6dd0",
   "metadata": {},
   "outputs": [
    {
     "data": {
      "text/plain": [
       "pandas.core.series.Series"
      ]
     },
     "execution_count": 78,
     "metadata": {},
     "output_type": "execute_result"
    }
   ],
   "source": [
    "new_df = df['Close'].resample('D').mean()\n",
    "type(new_df)"
   ]
  },
  {
   "cell_type": "code",
   "execution_count": 79,
   "id": "603f4498",
   "metadata": {},
   "outputs": [
    {
     "data": {
      "text/plain": [
       "count      123.000000\n",
       "mean     40649.353333\n",
       "std       7514.317141\n",
       "min      29807.350000\n",
       "25%      34632.855000\n",
       "50%      38402.220000\n",
       "75%      46586.820000\n",
       "max      58803.780000\n",
       "Name: Close, dtype: float64"
      ]
     },
     "execution_count": 79,
     "metadata": {},
     "output_type": "execute_result"
    }
   ],
   "source": [
    "new_df.describe()"
   ]
  },
  {
   "cell_type": "code",
   "execution_count": null,
   "id": "c622b11b",
   "metadata": {},
   "outputs": [],
   "source": [
    "new_df.plot()"
   ]
  },
  {
   "cell_type": "code",
   "execution_count": 82,
   "id": "ac57a7a2",
   "metadata": {},
   "outputs": [
    {
     "name": "stdout",
     "output_type": "stream",
     "text": [
      "            0\n",
      "0    57828.05\n",
      "1    36684.92\n",
      "2    33572.12\n",
      "3    39974.90\n",
      "4         NaN\n",
      "..        ...\n",
      "333       NaN\n",
      "334  49150.53\n",
      "335  35552.52\n",
      "336  33155.85\n",
      "337  44428.29\n",
      "\n",
      "[338 rows x 1 columns]\n"
     ]
    }
   ],
   "source": [
    "values = DataFrame(new_df.values)\n",
    "print(values)"
   ]
  },
  {
   "cell_type": "code",
   "execution_count": null,
   "id": "638f782c",
   "metadata": {},
   "outputs": [],
   "source": [
    "p = 1\n",
    "dataframe = concat([values.shift(p), values], axis=1)\n",
    "print(dataframe)"
   ]
  },
  {
   "cell_type": "markdown",
   "id": "bad35ea3",
   "metadata": {},
   "source": [
    "#### Calculation of Prediction Accuracy"
   ]
  },
  {
   "cell_type": "code",
   "execution_count": null,
   "id": "ee6d0950",
   "metadata": {},
   "outputs": [],
   "source": [
    "from sklearn.metrics import r2_score\n",
    "r_squre = r2_score(test, predictions)\n",
    "print(\"r2_score:\", r_squre)"
   ]
  },
  {
   "cell_type": "code",
   "execution_count": null,
   "id": "07039d11",
   "metadata": {},
   "outputs": [],
   "source": [
    "from sklearn.metrics import mean_absolute_error\n",
    "mae = mean_absolute_error(test, predictions)\n",
    "print('MAE: %f' % mae)"
   ]
  },
  {
   "cell_type": "code",
   "execution_count": null,
   "id": "f767d51d",
   "metadata": {},
   "outputs": [],
   "source": [
    "from sklearn.metrics import mean_squared_error\n",
    "from math import sqrt\n",
    "mse = mean_squared_error(test, predictions)\n",
    "rmse = sqrt(mse)\n",
    "print('RMSE: %f' % rmse)"
   ]
  },
  {
   "cell_type": "code",
   "execution_count": null,
   "id": "52717910",
   "metadata": {},
   "outputs": [],
   "source": [
    "errors = abs(test - predictions)\n",
    "mape = 100 * (errors / test)\n",
    "accuracy = 100 - np.mean(mape)\n",
    "print('Accuracy:', round(accuracy, 2), '%.')"
   ]
  }
 ],
 "metadata": {
  "kernelspec": {
   "display_name": "Python 3 (ipykernel)",
   "language": "python",
   "name": "python3"
  },
  "language_info": {
   "codemirror_mode": {
    "name": "ipython",
    "version": 3
   },
   "file_extension": ".py",
   "mimetype": "text/x-python",
   "name": "python",
   "nbconvert_exporter": "python",
   "pygments_lexer": "ipython3",
   "version": "3.9.7"
  }
 },
 "nbformat": 4,
 "nbformat_minor": 5
}
